{
  "nbformat": 4,
  "nbformat_minor": 0,
  "metadata": {
    "colab": {
      "provenance": []
    },
    "kernelspec": {
      "name": "python3",
      "display_name": "Python 3"
    },
    "language_info": {
      "name": "python"
    }
  },
  "cells": [
    {
      "cell_type": "code",
      "source": [
        "import requests  # Importa a biblioteca requests para fazer solicitações HTTP\n",
        "import random  # Importa a biblioteca random para gerar números aleatórios"
      ],
      "metadata": {
        "id": "tJxUQKHr-fjk"
      },
      "execution_count": 9,
      "outputs": []
    },
    {
      "cell_type": "code",
      "source": [
        "# Função para obter a palavra secreta e a dica\n",
        "def obter_palavra_e_dica(url):\n",
        "    \"\"\"\n",
        "    Obtém uma palavra secreta e sua dica de um arquivo JSON na URL fornecida.\n",
        "\n",
        "    Parâmetros:\n",
        "    url (str): A URL do arquivo JSON contendo palavras e dicas.\n",
        "\n",
        "    Retorna:\n",
        "    tuple: Contém a palavra secreta e a dica associada.\n",
        "    \"\"\"\n",
        "    # Faz uma solicitação GET para a URL e armazena a resposta\n",
        "    resposta = requests.get(url)\n",
        "\n",
        "    # Converte a resposta em um formato JSON\n",
        "    data = resposta.json()\n",
        "\n",
        "    # Escolhe aleatoriamente um item da lista de palavras\n",
        "    valorSecreto = random.choice(data)\n",
        "\n",
        "    # Extrai a palavra secreta e a dica associada\n",
        "    palavraSecreta = valorSecreto['palavra']\n",
        "    dica = valorSecreto['dica']\n",
        "\n",
        "    return palavraSecreta, dica"
      ],
      "metadata": {
        "id": "wDg4h729wLRu"
      },
      "execution_count": 10,
      "outputs": []
    },
    {
      "cell_type": "code",
      "source": [
        "# Função principal para o jogo\n",
        "def main():\n",
        "    \"\"\"\n",
        "    Função principal para executar o jogo de adivinhação da palavra secreta.\n",
        "    \"\"\"\n",
        "    # URL do arquivo JSON que contém as palavras e dicas\n",
        "    url = 'https://raw.githubusercontent.com/guilhermeonrails/api-imersao-ia/main/words.json'\n",
        "\n",
        "    # Obtém a palavra secreta e a dica\n",
        "    palavraSecreta, dica = obter_palavra_e_dica(url)\n",
        "\n",
        "    # Exibe a quantidade de letras da palavra secreta e a dica\n",
        "    print(f'\\nA palavra secreta tem {len(palavraSecreta)} letras')\n",
        "    print(f'A dica é: {dica}')\n",
        "\n",
        "    # Recebe o chute ou palpite do usuário\n",
        "    chute = input('\\nO que você acha que é? ')\n",
        "\n",
        "    # Verifica se o chute está correto\n",
        "    if chute == palavraSecreta:\n",
        "        print('Acertou!')\n",
        "    else:\n",
        "        print(f'Errou! A palavra secreta era {palavraSecreta}')\n",
        ""
      ],
      "metadata": {
        "id": "e4bB6ljYwUay"
      },
      "execution_count": 18,
      "outputs": []
    },
    {
      "cell_type": "code",
      "source": [
        "        # Verifica se o script está sendo executado diretamente\n",
        "if __name__ == \"__main__\":\n",
        "    main()"
      ],
      "metadata": {
        "colab": {
          "base_uri": "https://localhost:8080/"
        },
        "id": "y4vk7_XowrVk",
        "outputId": "c1151632-e693-4c8a-a518-f0e51b427fcc"
      },
      "execution_count": 19,
      "outputs": [
        {
          "output_type": "stream",
          "name": "stdout",
          "text": [
            "\n",
            "A palavra secreta tem 7 letras\n",
            "A dica é: desenvolver aplicativos e sistemas operacionais para computadores pessoais.\n",
            "\n",
            "O que você acha que é? Sistemas Operacionais\n",
            "Errou! A palavra secreta era windows\n"
          ]
        }
      ]
    }
  ]
}